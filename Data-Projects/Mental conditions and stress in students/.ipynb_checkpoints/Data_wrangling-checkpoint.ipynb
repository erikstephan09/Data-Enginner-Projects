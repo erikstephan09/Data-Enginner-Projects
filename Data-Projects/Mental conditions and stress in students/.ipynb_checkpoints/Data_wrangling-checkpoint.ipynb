{
 "cells": [
  {
   "cell_type": "markdown",
   "id": "8095a369-7554-4497-9dad-2d03f7121475",
   "metadata": {},
   "source": [
    "# Project "
   ]
  },
  {
   "cell_type": "markdown",
   "id": "44e8a3af-bd26-4838-ba6f-d2d99c659228",
   "metadata": {},
   "source": [
    "This project explores the relationship between academic performance and mental health, aiming to understand how\r\n",
    "mental health conditions and stress levels impact students' success.\r\n",
    "For data wrangling: Students' Performance Factors Dataset, which includes demographic and academic data,\r\n",
    "and a Mental Health API, which provides insights into mental health conditions, stress factors, and coping mechanisms.eing."
   ]
  },
  {
   "cell_type": "code",
   "execution_count": null,
   "id": "739f088f-fbe7-4faa-8950-6527e323f476",
   "metadata": {},
   "outputs": [],
   "source": [
    "import pandas as pd"
   ]
  },
  {
   "cell_type": "markdown",
   "id": "1b4d6706-1245-4dc1-bd81-4fb14cb8876e",
   "metadata": {},
   "source": [
    "### Data Cleaning students_performance"
   ]
  },
  {
   "cell_type": "code",
   "execution_count": null,
   "id": "78890d91-c1ee-4cec-9603-3b457555eb5d",
   "metadata": {},
   "outputs": [],
   "source": [
    " df_students = pd.DataFrame(\"students_performance.csv\")"
   ]
  }
 ],
 "metadata": {
  "kernelspec": {
   "display_name": "Python 3 (ipykernel)",
   "language": "python",
   "name": "python3"
  },
  "language_info": {
   "codemirror_mode": {
    "name": "ipython",
    "version": 3
   },
   "file_extension": ".py",
   "mimetype": "text/x-python",
   "name": "python",
   "nbconvert_exporter": "python",
   "pygments_lexer": "ipython3",
   "version": "3.12.4"
  }
 },
 "nbformat": 4,
 "nbformat_minor": 5
}
